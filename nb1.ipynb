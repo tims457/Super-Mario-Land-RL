{
 "cells": [
  {
   "cell_type": "code",
   "execution_count": 22,
   "metadata": {},
   "outputs": [],
   "source": [
    "from super_mario_land_rl.mario_env import SuperMarioLandEnv\n",
    "from pyboy import PyBoy\n",
    "import matplotlib.pyplot as plt\n",
    "import numpy as np\n",
    "\n",
    "import time"
   ]
  },
  {
   "cell_type": "code",
   "execution_count": 19,
   "metadata": {},
   "outputs": [
    {
     "name": "stdout",
     "output_type": "stream",
     "text": [
      "pyboy.plugins.window_sdl2      WARNING  SDL_InitSubSystem audio failed: dsp: No such audio device\n"
     ]
    }
   ],
   "source": [
    "pyboy = PyBoy(\"./super_mario_land.gb\", window=\"SDL2\")\n",
    "# mario = pyboy.game_wrapper\n",
    "# mario.start_game()\n",
    "# pyboy.tick()"
   ]
  },
  {
   "cell_type": "code",
   "execution_count": 23,
   "metadata": {},
   "outputs": [
    {
     "name": "stdout",
     "output_type": "stream",
     "text": [
      "pyboy.plugins.window_sdl2      WARNING  SDL_InitSubSystem audio failed: dsp: No such audio device\n",
      "244\n",
      "236\n",
      "228\n",
      "227\n",
      "233\n",
      "245\n",
      "257\n",
      "269\n",
      "274\n",
      "278\n"
     ]
    }
   ],
   "source": [
    "env = SuperMarioLandEnv(\"./super_mario_land.gb\", render_mode=\"human\")\n",
    "for i in range(10):\n",
    "    obs,_, _, _, _ = env.step(np.random.randint(0, env.action_space.n))\n",
    "    print(env.pyboy.game_wrapper.level_progress)\n",
    "    # plt.imshow(obs['screen'])\n",
    "    time.sleep(1)\n",
    "\n"
   ]
  },
  {
   "cell_type": "code",
   "execution_count": 5,
   "metadata": {},
   "outputs": [],
   "source": [
    "# plt.imshow(env.pyboy.screen.ndarray)"
   ]
  },
  {
   "cell_type": "code",
   "execution_count": 6,
   "metadata": {},
   "outputs": [
    {
     "name": "stdout",
     "output_type": "stream",
     "text": [
      "Attributes and methods of mario (game_wrapper):\n",
      "- argv\n",
      "- cartridge_title\n",
      "- coins\n",
      "- enabled\n",
      "- game_area\n",
      "- game_area_mapping\n",
      "- game_over\n",
      "- level_progress\n",
      "- lives_left\n",
      "- mapping_compressed\n",
      "- mapping_minimal\n",
      "- mapping_one_to_one\n",
      "- post_tick\n",
      "- reset_game\n",
      "- score\n",
      "- set_lives_left\n",
      "- set_time_left\n",
      "- set_world_level\n",
      "- shape\n",
      "- start_game\n",
      "- time_left\n",
      "- use_background\n",
      "- world\n"
     ]
    }
   ],
   "source": [
    "# Get a reference to the game wrapper and explore its attributes and methods\n",
    "mario = pyboy.game_wrapper\n",
    "\n",
    "# Print all attributes and methods of the game wrapper\n",
    "print(\"Attributes and methods of mario (game_wrapper):\")\n",
    "for attr in dir(mario):\n",
    "    if not attr.startswith(\"_\"):  # Skip private attributes\n",
    "        print(f\"- {attr}\")\n",
    "        # print(mario.__getattribute__(attr))"
   ]
  },
  {
   "cell_type": "code",
   "execution_count": 16,
   "metadata": {},
   "outputs": [
    {
     "data": {
      "text/plain": [
       "0"
      ]
     },
     "execution_count": 16,
     "metadata": {},
     "output_type": "execute_result"
    }
   ],
   "source": [
    "mario.level_progress"
   ]
  },
  {
   "cell_type": "code",
   "execution_count": null,
   "metadata": {},
   "outputs": [
    {
     "data": {
      "text/plain": [
       "(0, 0)"
      ]
     },
     "execution_count": 24,
     "metadata": {},
     "output_type": "execute_result"
    },
    {
     "ename": "",
     "evalue": "",
     "output_type": "error",
     "traceback": [
      "\u001b[1;31mThe Kernel crashed while executing code in the current cell or a previous cell. \n",
      "\u001b[1;31mPlease review the code in the cell(s) to identify a possible cause of the failure. \n",
      "\u001b[1;31mClick <a href='https://aka.ms/vscodeJupyterKernelCrash'>here</a> for more info. \n",
      "\u001b[1;31mView Jupyter <a href='command:jupyter.viewOutput'>log</a> for further details."
     ]
    }
   ],
   "source": [
    "mario.world"
   ]
  },
  {
   "cell_type": "code",
   "execution_count": 8,
   "metadata": {},
   "outputs": [
    {
     "name": "stdout",
     "output_type": "stream",
     "text": [
      "lives left: 0\n",
      "score: 0\n",
      "coins: 0\n",
      "world: (0, 0)\n",
      "level_progress: 0\n",
      "game_over: <bound method GameWrapperSuperMarioLand.game_over of Super Mario Land: World 0-0\n",
      "Coins: 0\n",
      "lives_left: 0\n",
      "Score: 0\n",
      "Time left: 0\n",
      "Level progress: 0\n",
      "Sprites on screen:\n",
      "\n",
      "Tiles on screen:\n",
      "       0   1   2   3   4   5   6   7   8   9  10  11  12  13  14  15  16  17  18  19\n",
      "____________________________________________________________________________________\n",
      "0  | 256 256 256 256 256 256 256 256 256 256 256 256 256 256 256 256 256 256 256 256\n",
      "1  | 256 256 256 256 256 256 256 256 256 256 256 256 256 256 256 256 256 256 256 256\n",
      "2  | 256 256 256 256 256 256 256 256 256 256 256 256 256 256 256 256 256 256 256 256\n",
      "3  | 256 256 256 256 256 256 256 256 256 256 256 256 256 256 256 256 256 256 256 256\n",
      "4  | 256 256 256 256 256 256 256 256 256 256 256 256 256 256 256 256 256 256 256 256\n",
      "5  | 256 256 256 256 256 256 256 256 256 256 256 256 256 256 256 256 256 256 256 256\n",
      "6  | 256 256 256 256 256 256 256 256 256 256 256 256 256 256 256 256 256 256 256 256\n",
      "7  | 256 256 256 256 256 256 256 256 256 256 256 256 256 256 256 256 256 256 256 256\n",
      "8  | 256 256 256 256 256 256 256 256 256 256 256 256 256 256 256 256 256 256 256 256\n",
      "9  | 256 256 256 256 256 256 256 256 256 256 256 256 256 256 256 256 256 256 256 256\n",
      "10 | 256 256 256 256 256 256 256 256 256 256 256 256 256 256 256 256 256 256 256 256\n",
      "11 | 256 256 256 256 256 256 256 256 256 256 256 256 256 256 256 256 256 256 256 256\n",
      "12 | 256 256 256 256 256 256 256 256 256 256 256 256 256 256 256 256 256 256 256 256\n",
      "13 | 256 256 256 256 256 256 256 256 256 256 256 256 256 256 256 256 256 256 256 256\n",
      "14 | 256 256 256 256 256 256 256 256 256 256 256 256 256 256 256 256 256 256 256 256\n",
      "15 | 256 256 256 256 256 256 256 256 256 256 256 256 256 256 256 256 256 256 256 256>\n",
      "time_left: 0\n"
     ]
    }
   ],
   "source": [
    "print(f\"lives left: {mario.lives_left}\")\n",
    "print(f\"score: {mario.score}\")\n",
    "print(f\"coins: {mario.coins}\")\n",
    "print(f\"world: {mario.world}\")\n",
    "print(f\"level_progress: {mario.level_progress}\")\n",
    "print(f\"game_over: {mario.game_over}\")\n",
    "print(f\"time_left: {mario.time_left}\")"
   ]
  },
  {
   "cell_type": "code",
   "execution_count": 9,
   "metadata": {},
   "outputs": [
    {
     "name": "stdout",
     "output_type": "stream",
     "text": [
      "Super Mario Land: World 0-0\n",
      "Coins: 0\n",
      "lives_left: 0\n",
      "Score: 0\n",
      "Time left: 0\n",
      "Level progress: 0\n",
      "Sprites on screen:\n",
      "\n",
      "Tiles on screen:\n",
      "       0   1   2   3   4   5   6   7   8   9  10  11  12  13  14  15  16  17  18  19\n",
      "____________________________________________________________________________________\n",
      "0  | 256 256 256 256 256 256 256 256 256 256 256 256 256 256 256 256 256 256 256 256\n",
      "1  | 256 256 256 256 256 256 256 256 256 256 256 256 256 256 256 256 256 256 256 256\n",
      "2  | 256 256 256 256 256 256 256 256 256 256 256 256 256 256 256 256 256 256 256 256\n",
      "3  | 256 256 256 256 256 256 256 256 256 256 256 256 256 256 256 256 256 256 256 256\n",
      "4  | 256 256 256 256 256 256 256 256 256 256 256 256 256 256 256 256 256 256 256 256\n",
      "5  | 256 256 256 256 256 256 256 256 256 256 256 256 256 256 256 256 256 256 256 256\n",
      "6  | 256 256 256 256 256 256 256 256 256 256 256 256 256 256 256 256 256 256 256 256\n",
      "7  | 256 256 256 256 256 256 256 256 256 256 256 256 256 256 256 256 256 256 256 256\n",
      "8  | 256 256 256 256 256 256 256 256 256 256 256 256 256 256 256 256 256 256 256 256\n",
      "9  | 256 256 256 256 256 256 256 256 256 256 256 256 256 256 256 256 256 256 256 256\n",
      "10 | 256 256 256 256 256 256 256 256 256 256 256 256 256 256 256 256 256 256 256 256\n",
      "11 | 256 256 256 256 256 256 256 256 256 256 256 256 256 256 256 256 256 256 256 256\n",
      "12 | 256 256 256 256 256 256 256 256 256 256 256 256 256 256 256 256 256 256 256 256\n",
      "13 | 256 256 256 256 256 256 256 256 256 256 256 256 256 256 256 256 256 256 256 256\n",
      "14 | 256 256 256 256 256 256 256 256 256 256 256 256 256 256 256 256 256 256 256 256\n",
      "15 | 256 256 256 256 256 256 256 256 256 256 256 256 256 256 256 256 256 256 256 256\n"
     ]
    }
   ],
   "source": [
    "print(mario)"
   ]
  },
  {
   "cell_type": "code",
   "execution_count": 10,
   "metadata": {},
   "outputs": [],
   "source": [
    "%matplotlib inline\n",
    "pyboy.screen.image.show()"
   ]
  },
  {
   "cell_type": "code",
   "execution_count": 11,
   "metadata": {},
   "outputs": [
    {
     "data": {
      "text/plain": [
       "(144, 160, 4)"
      ]
     },
     "execution_count": 11,
     "metadata": {},
     "output_type": "execute_result"
    }
   ],
   "source": [
    "pyboy.screen.ndarray.shape"
   ]
  },
  {
   "cell_type": "code",
   "execution_count": 12,
   "metadata": {},
   "outputs": [
    {
     "data": {
      "image/png": "[encoded data removed]",
      "text/plain": [
       "<Figure size 640x480 with 1 Axes>"
      ]
     },
     "metadata": {},
     "output_type": "display_data"
    },
    {
     "data": {
      "image/png": "[encoded data removed]",
      "text/plain": [
       "<Figure size 640x480 with 1 Axes>"
      ]
     },
     "metadata": {},
     "output_type": "display_data"
    }
   ],
   "source": [
    "import cv2\n",
    "\n",
    "plt.imshow(pyboy.screen.ndarray[19:, :, :3])\n",
    "plt.show()\n",
    "plt.imshow(cv2.cvtColor(pyboy.screen.ndarray[19:, :, :3], cv2.COLOR_RGB2GRAY))\n",
    "plt.show()"
   ]
  },
  {
   "cell_type": "code",
   "execution_count": 13,
   "metadata": {},
   "outputs": [
    {
     "data": {
      "text/plain": [
       "(125, 160)"
      ]
     },
     "execution_count": 13,
     "metadata": {},
     "output_type": "execute_result"
    }
   ],
   "source": [
    "cv2.cvtColor(pyboy.screen.ndarray[19:, :, :3], cv2.COLOR_RGB2GRAY).shape"
   ]
  },
  {
   "cell_type": "markdown",
   "metadata": {},
   "source": []
  },
  {
   "cell_type": "code",
   "execution_count": 14,
   "metadata": {},
   "outputs": [
    {
     "data": {
      "text/plain": [
       "(129, 160, 3)"
      ]
     },
     "execution_count": 14,
     "metadata": {},
     "output_type": "execute_result"
    }
   ],
   "source": [
    "pyboy.screen.ndarray[15:, :, :3].shape"
   ]
  },
  {
   "cell_type": "markdown",
   "metadata": {},
   "source": []
  }
 ],
 "metadata": {
  "kernelspec": {
   "display_name": ".venv",
   "language": "python",
   "name": "python3"
  },
  "language_info": {
   "codemirror_mode": {
    "name": "ipython",
    "version": 3
   },
   "file_extension": ".py",
   "mimetype": "text/x-python",
   "name": "python",
   "nbconvert_exporter": "python",
   "pygments_lexer": "ipython3",
   "version": "3.12.8"
  }
 },
 "nbformat": 4,
 "nbformat_minor": 2
}
